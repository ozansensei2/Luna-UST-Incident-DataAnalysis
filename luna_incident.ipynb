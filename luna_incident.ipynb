{
 "cells": [
  {
   "cell_type": "markdown",
   "id": "97003e4a-f877-4194-9f0a-2a3817fef5a3",
   "metadata": {},
   "source": [
    "## the main goal of this analys is that determine of Lunc- ust incident and affect to market overall.\n",
    "\n",
    "According to the DO Kwon and team attack started at 2022-05-07 14:59 (UTC)  refer:https://agora.terra.money/t/terra-ecosystem-revival-plan-2-amended/18498\n",
    "--Since Luna price goes 0.00001 at 05-12, we will use the data between 05-05 05-12 to show the changes. \n",
    "--We use USDT as stablecoin to compare the price\n",
    "--LUNC/USDT UST/USDT BTC/USDT\n"
   ]
  },
  {
   "cell_type": "markdown",
   "id": "2303e7ef-dd2d-47c3-8464-4ed1b9ca417a",
   "metadata": {},
   "source": [
    "### import necassary things"
   ]
  },
  {
   "cell_type": "code",
   "execution_count": 2,
   "id": "a48e6306-3549-48a8-b364-8c165196adc7",
   "metadata": {},
   "outputs": [],
   "source": [
    "import requests\n",
    "import pandas as pd\n",
    "import numpy as np\n",
    "import matplotlib.pyplot as plt\n",
    "import json\n",
    "import datetime\n",
    "pd.set_option('display.float_format', lambda x: '%.9f' % x)\n",
    "import warnings\n",
    "warnings.filterwarnings(\"ignore\")"
   ]
  },
  {
   "cell_type": "markdown",
   "id": "e63c4f10-a229-451a-a9fc-835d50a212a4",
   "metadata": {},
   "source": [
    "### get time,price,marketcap,volume for luna classic"
   ]
  },
  {
   "cell_type": "code",
   "execution_count": 97,
   "id": "d7a267b2-42b7-4c57-a444-f9ce85f38aa5",
   "metadata": {},
   "outputs": [],
   "source": [
    "\n",
    "api_url = \"https://api.coingecko.com/api/v3/coins/terra-luna/market_chart?vs_currency=USD&days=65&interval=daily\"\n",
    "JSONContent = requests.get(api_url).json()\n",
    "\n",
    "luna_price = pd.DataFrame.from_dict(JSONContent['prices'])\n",
    "luna_price.columns=['Unix', 'Price']\n",
    "\n",
    "luna_cap = pd.DataFrame.from_dict(JSONContent['market_caps'])\n",
    "luna_cap.columns=['Unix', 'Market Cap']\n",
    "\n",
    "luna_volume = pd.DataFrame.from_dict(JSONContent['total_volumes'])\n",
    "luna_volume.columns=['Unix', 'Volume']\n",
    "\n",
    "##combine all the dataframes into one\n",
    "df_luna_orj = luna_price.merge(luna_cap,how='inner',on='Unix').merge(luna_volume,how='inner',on='Unix')\n"
   ]
  },
  {
   "cell_type": "markdown",
   "id": "db819454-7f6c-4049-887c-b37e8405dd64",
   "metadata": {},
   "source": [
    "### changes in columns and values"
   ]
  },
  {
   "cell_type": "code",
   "execution_count": 98,
   "id": "8e978451-6c20-4e60-95fe-ea69f8ef51e9",
   "metadata": {},
   "outputs": [],
   "source": [
    "#change the Time column from 'unix ms' to date\n",
    "df_luna_orj['Date'] = pd.to_datetime(df_luna_orj['Unix'],unit='ms').dt.strftime('%Y-%m-%d')\n",
    "#drop the Unix\n",
    "df_luna_orj.drop('Unix',axis=1,inplace=True)\n",
    "#order the columns so can look cool\n",
    "df_luna_orj= df_luna_orj[['Date','Price','Market Cap','Volume']]"
   ]
  },
  {
   "cell_type": "code",
   "execution_count": 99,
   "id": "0c336a22-c38d-4bb7-884e-aa7d31160b21",
   "metadata": {},
   "outputs": [
    {
     "data": {
      "text/html": [
       "<div>\n",
       "<style scoped>\n",
       "    .dataframe tbody tr th:only-of-type {\n",
       "        vertical-align: middle;\n",
       "    }\n",
       "\n",
       "    .dataframe tbody tr th {\n",
       "        vertical-align: top;\n",
       "    }\n",
       "\n",
       "    .dataframe thead th {\n",
       "        text-align: right;\n",
       "    }\n",
       "</style>\n",
       "<table border=\"1\" class=\"dataframe\">\n",
       "  <thead>\n",
       "    <tr style=\"text-align: right;\">\n",
       "      <th></th>\n",
       "      <th>Date</th>\n",
       "      <th>Price</th>\n",
       "      <th>Market Cap</th>\n",
       "      <th>Volume</th>\n",
       "    </tr>\n",
       "  </thead>\n",
       "  <tbody>\n",
       "    <tr>\n",
       "      <th>2</th>\n",
       "      <td>2022-05-05</td>\n",
       "      <td>86.136037083</td>\n",
       "      <td>29635965555</td>\n",
       "      <td>1888644394</td>\n",
       "    </tr>\n",
       "    <tr>\n",
       "      <th>3</th>\n",
       "      <td>2022-05-06</td>\n",
       "      <td>82.619726996</td>\n",
       "      <td>28341147677</td>\n",
       "      <td>2146296893</td>\n",
       "    </tr>\n",
       "    <tr>\n",
       "      <th>4</th>\n",
       "      <td>2022-05-07</td>\n",
       "      <td>77.564775499</td>\n",
       "      <td>26565180437</td>\n",
       "      <td>2212240363</td>\n",
       "    </tr>\n",
       "    <tr>\n",
       "      <th>5</th>\n",
       "      <td>2022-05-08</td>\n",
       "      <td>68.577322038</td>\n",
       "      <td>23535728154</td>\n",
       "      <td>2926696392</td>\n",
       "    </tr>\n",
       "    <tr>\n",
       "      <th>6</th>\n",
       "      <td>2022-05-09</td>\n",
       "      <td>63.856416469</td>\n",
       "      <td>21892228418</td>\n",
       "      <td>5213839316</td>\n",
       "    </tr>\n",
       "    <tr>\n",
       "      <th>7</th>\n",
       "      <td>2022-05-10</td>\n",
       "      <td>33.143682144</td>\n",
       "      <td>11693885984</td>\n",
       "      <td>6489564173</td>\n",
       "    </tr>\n",
       "    <tr>\n",
       "      <th>8</th>\n",
       "      <td>2022-05-11</td>\n",
       "      <td>16.866653490</td>\n",
       "      <td>6530663270</td>\n",
       "      <td>11400022297</td>\n",
       "    </tr>\n",
       "    <tr>\n",
       "      <th>9</th>\n",
       "      <td>2022-05-12</td>\n",
       "      <td>1.062878110</td>\n",
       "      <td>1636528517</td>\n",
       "      <td>16547891266</td>\n",
       "    </tr>\n",
       "  </tbody>\n",
       "</table>\n",
       "</div>"
      ],
      "text/plain": [
       "         Date        Price   Market Cap       Volume\n",
       "2  2022-05-05 86.136037083  29635965555   1888644394\n",
       "3  2022-05-06 82.619726996  28341147677   2146296893\n",
       "4  2022-05-07 77.564775499  26565180437   2212240363\n",
       "5  2022-05-08 68.577322038  23535728154   2926696392\n",
       "6  2022-05-09 63.856416469  21892228418   5213839316\n",
       "7  2022-05-10 33.143682144  11693885984   6489564173\n",
       "8  2022-05-11 16.866653490   6530663270  11400022297\n",
       "9  2022-05-12  1.062878110   1636528517  16547891266"
      ]
     },
     "execution_count": 99,
     "metadata": {},
     "output_type": "execute_result"
    }
   ],
   "source": [
    "#change columns to int\n",
    "df_luna_orj['Market Cap']=df_luna_orj['Market Cap'].round().astype(np.int64)\n",
    "df_luna_orj['Volume']=df_luna_orj['Volume'].round().astype(np.int64)\n",
    "df_luna_orj=df_luna_orj[(df_luna_orj['Date']<='2022-05-12') & (df_luna_orj['Date']>='2022-05-05')]\n",
    "df_luna_orj.head(30)"
   ]
  },
  {
   "cell_type": "markdown",
   "id": "524fa79b-0aa7-4274-93a2-d6962c3d50ab",
   "metadata": {},
   "source": [
    "### save as csv and read from csv"
   ]
  },
  {
   "cell_type": "code",
   "execution_count": 101,
   "id": "ffddaeab-f10a-4803-8f1d-deb09893c6a2",
   "metadata": {},
   "outputs": [],
   "source": [
    "#to csv and read csv\n",
    "luna_csv = df_luna_orj.to_csv(\"luna_csv.csv\",sep=\",\",encoding='utf-8',index=False)\n",
    "df_luna_csv=pd.read_csv(\"luna_csv.csv\")\n",
    "df_luna= df_luna_csv.copy()"
   ]
  },
  {
   "cell_type": "markdown",
   "id": "62f11b53-4e94-40b3-a3bd-a3b62f75ffde",
   "metadata": {},
   "source": [
    "### get time,price,marketcap,volume for ust classic"
   ]
  },
  {
   "cell_type": "code",
   "execution_count": 102,
   "id": "93bf88fc-182f-48c9-84d6-50cc59cc45c7",
   "metadata": {},
   "outputs": [],
   "source": [
    "##get time,price,marketcap,volume for ust classic\n",
    "api_url = \"https://api.coingecko.com/api/v3/coins/terrausd/market_chart?vs_currency=USD&days=68&interval=daily\"\n",
    "JSONContent = requests.get(api_url).json()\n",
    "\n",
    "ust_price = pd.DataFrame.from_dict(JSONContent['prices'])\n",
    "ust_price.columns=['Unix', 'Price']\n",
    "\n",
    "ust_cap = pd.DataFrame.from_dict(JSONContent['market_caps'])\n",
    "ust_cap.columns=['Unix', 'Market Cap']\n",
    "\n",
    "ust_volume = pd.DataFrame.from_dict(JSONContent['total_volumes'])\n",
    "ust_volume.columns=['Unix', 'Volume']\n",
    "\n",
    "##combine all the dataframes into one\n",
    "df_ust_orj = ust_price.merge(ust_cap,how='inner',on='Unix').merge(ust_volume,how='inner',on='Unix')\n"
   ]
  },
  {
   "cell_type": "markdown",
   "id": "e72f97ae-c6fe-46fa-b053-afb008348664",
   "metadata": {},
   "source": [
    "### changes in columns and values"
   ]
  },
  {
   "cell_type": "code",
   "execution_count": 103,
   "id": "db951bbe-5b29-432b-879c-ae83fb7f146d",
   "metadata": {},
   "outputs": [],
   "source": [
    "#change the Time column from 'unix ms' to date\n",
    "df_ust_orj['Date'] = pd.to_datetime(df_ust_orj['Unix'],unit='ms').dt.strftime('%Y-%m-%d')\n",
    "#drop the Unix\n",
    "df_ust_orj.drop('Unix',axis=1,inplace=True)\n",
    "#order the columns so can look cool\n",
    "df_ust_orj= df_ust_orj[['Date','Price','Market Cap','Volume']]"
   ]
  },
  {
   "cell_type": "code",
   "execution_count": 104,
   "id": "77bc4820-88b3-49a6-bf85-67cae4cf8127",
   "metadata": {},
   "outputs": [
    {
     "data": {
      "text/html": [
       "<div>\n",
       "<style scoped>\n",
       "    .dataframe tbody tr th:only-of-type {\n",
       "        vertical-align: middle;\n",
       "    }\n",
       "\n",
       "    .dataframe tbody tr th {\n",
       "        vertical-align: top;\n",
       "    }\n",
       "\n",
       "    .dataframe thead th {\n",
       "        text-align: right;\n",
       "    }\n",
       "</style>\n",
       "<table border=\"1\" class=\"dataframe\">\n",
       "  <thead>\n",
       "    <tr style=\"text-align: right;\">\n",
       "      <th></th>\n",
       "      <th>Date</th>\n",
       "      <th>Price</th>\n",
       "      <th>Market Cap</th>\n",
       "      <th>Volume</th>\n",
       "    </tr>\n",
       "  </thead>\n",
       "  <tbody>\n",
       "    <tr>\n",
       "      <th>5</th>\n",
       "      <td>2022-05-05</td>\n",
       "      <td>1.001242587</td>\n",
       "      <td>18700360530</td>\n",
       "      <td>817899887</td>\n",
       "    </tr>\n",
       "    <tr>\n",
       "      <th>6</th>\n",
       "      <td>2022-05-06</td>\n",
       "      <td>1.000841241</td>\n",
       "      <td>18674018450</td>\n",
       "      <td>996431870</td>\n",
       "    </tr>\n",
       "  </tbody>\n",
       "</table>\n",
       "</div>"
      ],
      "text/plain": [
       "         Date       Price   Market Cap     Volume\n",
       "5  2022-05-05 1.001242587  18700360530  817899887\n",
       "6  2022-05-06 1.000841241  18674018450  996431870"
      ]
     },
     "execution_count": 104,
     "metadata": {},
     "output_type": "execute_result"
    }
   ],
   "source": [
    "#change columns to int\n",
    "df_ust_orj['Market Cap']=df_ust_orj['Market Cap'].round().astype(np.int64)\n",
    "df_ust_orj['Volume']=df_ust_orj['Volume'].round().astype(np.int64)\n",
    "df_ust_orj=df_ust_orj[(df_ust_orj['Date']<='2022-05-12')&(df_ust_orj['Date']>='2022-05-05')]\n",
    "df_ust_orj.head(2)"
   ]
  },
  {
   "cell_type": "markdown",
   "id": "1d00dff7-be91-4ac8-9712-d46b78f1b185",
   "metadata": {},
   "source": [
    "### to csv and read csv"
   ]
  },
  {
   "cell_type": "code",
   "execution_count": 105,
   "id": "591d11fd-c6c0-4979-929d-00518419ff75",
   "metadata": {},
   "outputs": [],
   "source": [
    "ust_csv = df_ust_orj.to_csv(\"ust_csv.csv\",sep=\",\",encoding='utf-8',index=False)\n",
    "df_ust_csv=pd.read_csv(\"ust_csv.csv\")\n",
    "df_ust= df_ust_csv.copy()"
   ]
  },
  {
   "cell_type": "markdown",
   "id": "20f3a9cf-f00f-4aa5-8e97-d791f0722653",
   "metadata": {},
   "source": [
    "## get time,price,marketcap,volume for btc"
   ]
  },
  {
   "cell_type": "code",
   "execution_count": 106,
   "id": "c80abf10-e137-4414-a592-75a8caf99fad",
   "metadata": {},
   "outputs": [],
   "source": [
    "\n",
    "api_url = \"https://api.coingecko.com/api/v3/coins/bitcoin/market_chart?vs_currency=USD&days=68&interval=daily\"\n",
    "JSONContent = requests.get(api_url).json()\n",
    "\n",
    "btc_price = pd.DataFrame.from_dict(JSONContent['prices'])\n",
    "btc_price.columns=['Unix', 'Price']\n",
    "\n",
    "btc_cap = pd.DataFrame.from_dict(JSONContent['market_caps'])\n",
    "btc_cap.columns=['Unix', 'Market Cap']\n",
    "\n",
    "btc_volume = pd.DataFrame.from_dict(JSONContent['total_volumes'])\n",
    "btc_volume.columns=['Unix', 'Volume']\n",
    "\n",
    "##combine all the dataframes into one\n",
    "df_btc_orj = btc_price.merge(btc_cap,how='inner',on='Unix').merge(btc_volume,how='inner',on='Unix')\n"
   ]
  },
  {
   "cell_type": "code",
   "execution_count": 107,
   "id": "ed34cbcb-3159-4fca-9245-b348347522df",
   "metadata": {},
   "outputs": [],
   "source": [
    "#change the Time column from 'unix ms' to date\n",
    "df_btc_orj['Date'] = pd.to_datetime(df_btc_orj['Unix'],unit='ms').dt.strftime('%Y-%m-%d')\n",
    "#drop the Unix\n",
    "df_btc_orj.drop('Unix',axis=1,inplace=True)\n",
    "#order the columns so can look cool\n",
    "df_btc_orj= df_btc_orj[['Date','Price','Market Cap','Volume']]"
   ]
  },
  {
   "cell_type": "code",
   "execution_count": 108,
   "id": "c1e5eb9d-1286-4f5d-b6a4-4541d7da274d",
   "metadata": {},
   "outputs": [
    {
     "data": {
      "text/html": [
       "<div>\n",
       "<style scoped>\n",
       "    .dataframe tbody tr th:only-of-type {\n",
       "        vertical-align: middle;\n",
       "    }\n",
       "\n",
       "    .dataframe tbody tr th {\n",
       "        vertical-align: top;\n",
       "    }\n",
       "\n",
       "    .dataframe thead th {\n",
       "        text-align: right;\n",
       "    }\n",
       "</style>\n",
       "<table border=\"1\" class=\"dataframe\">\n",
       "  <thead>\n",
       "    <tr style=\"text-align: right;\">\n",
       "      <th></th>\n",
       "      <th>Date</th>\n",
       "      <th>Price</th>\n",
       "      <th>Market Cap</th>\n",
       "      <th>Volume</th>\n",
       "    </tr>\n",
       "  </thead>\n",
       "  <tbody>\n",
       "    <tr>\n",
       "      <th>5</th>\n",
       "      <td>2022-05-05</td>\n",
       "      <td>39699.024041254</td>\n",
       "      <td>755764276889</td>\n",
       "      <td>31748901527</td>\n",
       "    </tr>\n",
       "    <tr>\n",
       "      <th>6</th>\n",
       "      <td>2022-05-06</td>\n",
       "      <td>36612.229548803</td>\n",
       "      <td>696020943882</td>\n",
       "      <td>37402043366</td>\n",
       "    </tr>\n",
       "  </tbody>\n",
       "</table>\n",
       "</div>"
      ],
      "text/plain": [
       "         Date           Price    Market Cap       Volume\n",
       "5  2022-05-05 39699.024041254  755764276889  31748901527\n",
       "6  2022-05-06 36612.229548803  696020943882  37402043366"
      ]
     },
     "execution_count": 108,
     "metadata": {},
     "output_type": "execute_result"
    }
   ],
   "source": [
    "#change columns to int\n",
    "df_btc_orj['Market Cap']=df_btc_orj['Market Cap'].round().astype(np.int64)\n",
    "df_btc_orj['Volume']=df_btc_orj['Volume'].round().astype(np.int64)\n",
    "df_btc_orj=df_btc_orj[(df_btc_orj['Date']<='2022-05-12')& (df_btc_orj['Date']>='2022-05-05')]\n",
    "df_btc_orj.head(2)"
   ]
  },
  {
   "cell_type": "code",
   "execution_count": 109,
   "id": "e034a3fb-a1dc-4700-833c-18df1d123b3a",
   "metadata": {},
   "outputs": [],
   "source": [
    "#to csv and read csv\n",
    "btc_csv = df_btc_orj.to_csv(\"btc_csv.csv\",sep=\",\",encoding='utf-8',index=False)\n",
    "df_btc_csv=pd.read_csv(\"btc_csv.csv\")\n",
    "df_btc= df_btc_csv.copy()"
   ]
  },
  {
   "cell_type": "markdown",
   "id": "ba6c6b8a-5b50-496f-9017-804da15bb346",
   "metadata": {},
   "source": [
    "### check is there any null value"
   ]
  },
  {
   "cell_type": "code",
   "execution_count": 110,
   "id": "0483f248-7219-450f-ad76-3f71563aa195",
   "metadata": {},
   "outputs": [
    {
     "name": "stdout",
     "output_type": "stream",
     "text": [
      "Date          0\n",
      "Price         0\n",
      "Market Cap    0\n",
      "Volume        0\n",
      "dtype: int64\n",
      "Date          0\n",
      "Price         0\n",
      "Market Cap    0\n",
      "Volume        0\n",
      "dtype: int64\n",
      "Date          0\n",
      "Price         0\n",
      "Market Cap    0\n",
      "Volume        0\n",
      "dtype: int64\n"
     ]
    }
   ],
   "source": [
    "#lets check our\n",
    "a = df_btc.isnull().sum()\n",
    "b = df_ust.isnull().sum()\n",
    "c = df_luna.isnull().sum()\n",
    "\n",
    "print(a)\n",
    "print(b)\n",
    "print(c)"
   ]
  },
  {
   "cell_type": "markdown",
   "id": "2d01026d-8962-404b-8371-8e0a63edc2dd",
   "metadata": {},
   "source": [
    "## combine all data into one"
   ]
  },
  {
   "cell_type": "code",
   "execution_count": 111,
   "id": "cd5f29f7-696f-4716-954f-932647507722",
   "metadata": {},
   "outputs": [
    {
     "data": {
      "text/html": [
       "<div>\n",
       "<style scoped>\n",
       "    .dataframe tbody tr th:only-of-type {\n",
       "        vertical-align: middle;\n",
       "    }\n",
       "\n",
       "    .dataframe tbody tr th {\n",
       "        vertical-align: top;\n",
       "    }\n",
       "\n",
       "    .dataframe thead th {\n",
       "        text-align: right;\n",
       "    }\n",
       "</style>\n",
       "<table border=\"1\" class=\"dataframe\">\n",
       "  <thead>\n",
       "    <tr style=\"text-align: right;\">\n",
       "      <th></th>\n",
       "      <th>Date</th>\n",
       "      <th>Price_Luna</th>\n",
       "      <th>Market Cap_Luna</th>\n",
       "      <th>Volume_Luna</th>\n",
       "      <th>Price_UST</th>\n",
       "      <th>Market Cap_UST</th>\n",
       "      <th>Volume_UST</th>\n",
       "      <th>Price_BTC</th>\n",
       "      <th>Market Cap_BTC</th>\n",
       "      <th>Volume_BTC</th>\n",
       "    </tr>\n",
       "  </thead>\n",
       "  <tbody>\n",
       "    <tr>\n",
       "      <th>1</th>\n",
       "      <td>2022-05-06</td>\n",
       "      <td>82.619726996</td>\n",
       "      <td>28341147677</td>\n",
       "      <td>2146296893</td>\n",
       "      <td>1.000841241</td>\n",
       "      <td>18674018450</td>\n",
       "      <td>996431870</td>\n",
       "      <td>36612.229548803</td>\n",
       "      <td>696020943882</td>\n",
       "      <td>37402043366</td>\n",
       "    </tr>\n",
       "    <tr>\n",
       "      <th>7</th>\n",
       "      <td>2022-05-12</td>\n",
       "      <td>1.062878110</td>\n",
       "      <td>1636528517</td>\n",
       "      <td>16547891266</td>\n",
       "      <td>0.775288499</td>\n",
       "      <td>9910009034</td>\n",
       "      <td>1835510122</td>\n",
       "      <td>28913.488363654</td>\n",
       "      <td>549294001873</td>\n",
       "      <td>65985702702</td>\n",
       "    </tr>\n",
       "    <tr>\n",
       "      <th>0</th>\n",
       "      <td>2022-05-05</td>\n",
       "      <td>86.136037083</td>\n",
       "      <td>29635965555</td>\n",
       "      <td>1888644394</td>\n",
       "      <td>1.001242587</td>\n",
       "      <td>18700360530</td>\n",
       "      <td>817899887</td>\n",
       "      <td>39699.024041254</td>\n",
       "      <td>755764276889</td>\n",
       "      <td>31748901527</td>\n",
       "    </tr>\n",
       "    <tr>\n",
       "      <th>3</th>\n",
       "      <td>2022-05-08</td>\n",
       "      <td>68.577322038</td>\n",
       "      <td>23535728154</td>\n",
       "      <td>2926696392</td>\n",
       "      <td>0.994662419</td>\n",
       "      <td>18708520935</td>\n",
       "      <td>2004711722</td>\n",
       "      <td>35573.310198835</td>\n",
       "      <td>678702448511</td>\n",
       "      <td>19130720395</td>\n",
       "    </tr>\n",
       "  </tbody>\n",
       "</table>\n",
       "</div>"
      ],
      "text/plain": [
       "         Date   Price_Luna  Market Cap_Luna  Volume_Luna   Price_UST  \\\n",
       "1  2022-05-06 82.619726996      28341147677   2146296893 1.000841241   \n",
       "7  2022-05-12  1.062878110       1636528517  16547891266 0.775288499   \n",
       "0  2022-05-05 86.136037083      29635965555   1888644394 1.001242587   \n",
       "3  2022-05-08 68.577322038      23535728154   2926696392 0.994662419   \n",
       "\n",
       "   Market Cap_UST  Volume_UST       Price_BTC  Market Cap_BTC   Volume_BTC  \n",
       "1     18674018450   996431870 36612.229548803    696020943882  37402043366  \n",
       "7      9910009034  1835510122 28913.488363654    549294001873  65985702702  \n",
       "0     18700360530   817899887 39699.024041254    755764276889  31748901527  \n",
       "3     18708520935  2004711722 35573.310198835    678702448511  19130720395  "
      ]
     },
     "execution_count": 111,
     "metadata": {},
     "output_type": "execute_result"
    }
   ],
   "source": [
    "all_data = df_luna.merge(df_ust,how='inner',on='Date').merge(df_btc,how='inner',on='Date')\n",
    "all_data.rename(columns = {'Price_x':'Price_Luna', 'Market Cap_x':'Market Cap_Luna', 'Volume_x':'Volume_Luna','Price_y':'Price_UST','Market Cap_y':'Market Cap_UST', 'Volume_y':'Volume_UST','Price':'Price_BTC','Market Cap':'Market Cap_BTC', 'Volume':'Volume_BTC'}, inplace = True)\n",
    "all_data.sample(4)"
   ]
  },
  {
   "cell_type": "code",
   "execution_count": 112,
   "id": "54cb26b6-ea47-4c43-a6ac-fc06accc7bad",
   "metadata": {},
   "outputs": [],
   "source": [
    "all_data.to_csv(\"all_data_csv.csv\",sep=\",\",encoding='utf-8',index=False)\n",
    "df_all_data_csv=pd.read_csv(\"all_data_csv.csv\")\n",
    "df_all_data= df_all_data_csv.copy()"
   ]
  },
  {
   "cell_type": "code",
   "execution_count": 113,
   "id": "7126837e-82e2-4a5c-8cc7-e0647ef01176",
   "metadata": {},
   "outputs": [
    {
     "data": {
      "text/html": [
       "<div>\n",
       "<style scoped>\n",
       "    .dataframe tbody tr th:only-of-type {\n",
       "        vertical-align: middle;\n",
       "    }\n",
       "\n",
       "    .dataframe tbody tr th {\n",
       "        vertical-align: top;\n",
       "    }\n",
       "\n",
       "    .dataframe thead th {\n",
       "        text-align: right;\n",
       "    }\n",
       "</style>\n",
       "<table border=\"1\" class=\"dataframe\">\n",
       "  <thead>\n",
       "    <tr style=\"text-align: right;\">\n",
       "      <th></th>\n",
       "      <th>Price_Luna</th>\n",
       "      <th>Market Cap_Luna</th>\n",
       "      <th>Volume_Luna</th>\n",
       "      <th>Price_UST</th>\n",
       "      <th>Market Cap_UST</th>\n",
       "      <th>Volume_UST</th>\n",
       "      <th>Price_BTC</th>\n",
       "      <th>Market Cap_BTC</th>\n",
       "      <th>Volume_BTC</th>\n",
       "    </tr>\n",
       "  </thead>\n",
       "  <tbody>\n",
       "    <tr>\n",
       "      <th>count</th>\n",
       "      <td>8.000000000</td>\n",
       "      <td>8.000000000</td>\n",
       "      <td>8.000000000</td>\n",
       "      <td>8.000000000</td>\n",
       "      <td>8.000000000</td>\n",
       "      <td>8.000000000</td>\n",
       "      <td>8.000000000</td>\n",
       "      <td>8.000000000</td>\n",
       "      <td>8.000000000</td>\n",
       "    </tr>\n",
       "    <tr>\n",
       "      <th>mean</th>\n",
       "      <td>53.728436479</td>\n",
       "      <td>18728916001.500000000</td>\n",
       "      <td>6103149386.750000000</td>\n",
       "      <td>0.918401081</td>\n",
       "      <td>16596688265.750000000</td>\n",
       "      <td>2188066369.000000000</td>\n",
       "      <td>34035.159933763</td>\n",
       "      <td>647778949794.625000000</td>\n",
       "      <td>41217815413.750000000</td>\n",
       "    </tr>\n",
       "    <tr>\n",
       "      <th>std</th>\n",
       "      <td>32.364839559</td>\n",
       "      <td>10665809751.134983063</td>\n",
       "      <td>5301447847.935166359</td>\n",
       "      <td>0.110657406</td>\n",
       "      <td>3296399724.809511662</td>\n",
       "      <td>1767246197.927199125</td>\n",
       "      <td>3681.610796407</td>\n",
       "      <td>70283143385.368606567</td>\n",
       "      <td>16274999644.522996902</td>\n",
       "    </tr>\n",
       "    <tr>\n",
       "      <th>min</th>\n",
       "      <td>1.062878110</td>\n",
       "      <td>1636528517.000000000</td>\n",
       "      <td>1888644394.000000000</td>\n",
       "      <td>0.775288499</td>\n",
       "      <td>9910009034.000000000</td>\n",
       "      <td>817899887.000000000</td>\n",
       "      <td>28913.488363654</td>\n",
       "      <td>549294001873.000000000</td>\n",
       "      <td>19130720395.000000000</td>\n",
       "    </tr>\n",
       "    <tr>\n",
       "      <th>25%</th>\n",
       "      <td>29.074424981</td>\n",
       "      <td>10403080305.500000000</td>\n",
       "      <td>2195754495.500000000</td>\n",
       "      <td>0.794331268</td>\n",
       "      <td>15184873485.750000000</td>\n",
       "      <td>958400620.500000000</td>\n",
       "      <td>30837.597140429</td>\n",
       "      <td>587032770182.250000000</td>\n",
       "      <td>31514320270.750000000</td>\n",
       "    </tr>\n",
       "    <tr>\n",
       "      <th>50%</th>\n",
       "      <td>66.216869254</td>\n",
       "      <td>22713978286.000000000</td>\n",
       "      <td>4070267854.000000000</td>\n",
       "      <td>0.994924078</td>\n",
       "      <td>18654651884.000000000</td>\n",
       "      <td>1673731455.500000000</td>\n",
       "      <td>34821.811198207</td>\n",
       "      <td>663608385076.500000000</td>\n",
       "      <td>34812665190.000000000</td>\n",
       "    </tr>\n",
       "    <tr>\n",
       "      <th>75%</th>\n",
       "      <td>78.828513373</td>\n",
       "      <td>27009172247.000000000</td>\n",
       "      <td>7717178704.000000000</td>\n",
       "      <td>1.000338565</td>\n",
       "      <td>18702400631.250000000</td>\n",
       "      <td>2381562120.750000000</td>\n",
       "      <td>36240.353108438</td>\n",
       "      <td>689325248714.250000000</td>\n",
       "      <td>55146004556.000000000</td>\n",
       "    </tr>\n",
       "    <tr>\n",
       "      <th>max</th>\n",
       "      <td>86.136037083</td>\n",
       "      <td>29635965555.000000000</td>\n",
       "      <td>16547891266.000000000</td>\n",
       "      <td>1.001242587</td>\n",
       "      <td>18770471902.000000000</td>\n",
       "      <td>5981604373.000000000</td>\n",
       "      <td>39699.024041254</td>\n",
       "      <td>755764276889.000000000</td>\n",
       "      <td>65985702702.000000000</td>\n",
       "    </tr>\n",
       "  </tbody>\n",
       "</table>\n",
       "</div>"
      ],
      "text/plain": [
       "        Price_Luna       Market Cap_Luna           Volume_Luna   Price_UST  \\\n",
       "count  8.000000000           8.000000000           8.000000000 8.000000000   \n",
       "mean  53.728436479 18728916001.500000000  6103149386.750000000 0.918401081   \n",
       "std   32.364839559 10665809751.134983063  5301447847.935166359 0.110657406   \n",
       "min    1.062878110  1636528517.000000000  1888644394.000000000 0.775288499   \n",
       "25%   29.074424981 10403080305.500000000  2195754495.500000000 0.794331268   \n",
       "50%   66.216869254 22713978286.000000000  4070267854.000000000 0.994924078   \n",
       "75%   78.828513373 27009172247.000000000  7717178704.000000000 1.000338565   \n",
       "max   86.136037083 29635965555.000000000 16547891266.000000000 1.001242587   \n",
       "\n",
       "             Market Cap_UST           Volume_UST       Price_BTC  \\\n",
       "count           8.000000000          8.000000000     8.000000000   \n",
       "mean  16596688265.750000000 2188066369.000000000 34035.159933763   \n",
       "std    3296399724.809511662 1767246197.927199125  3681.610796407   \n",
       "min    9910009034.000000000  817899887.000000000 28913.488363654   \n",
       "25%   15184873485.750000000  958400620.500000000 30837.597140429   \n",
       "50%   18654651884.000000000 1673731455.500000000 34821.811198207   \n",
       "75%   18702400631.250000000 2381562120.750000000 36240.353108438   \n",
       "max   18770471902.000000000 5981604373.000000000 39699.024041254   \n",
       "\n",
       "              Market Cap_BTC            Volume_BTC  \n",
       "count            8.000000000           8.000000000  \n",
       "mean  647778949794.625000000 41217815413.750000000  \n",
       "std    70283143385.368606567 16274999644.522996902  \n",
       "min   549294001873.000000000 19130720395.000000000  \n",
       "25%   587032770182.250000000 31514320270.750000000  \n",
       "50%   663608385076.500000000 34812665190.000000000  \n",
       "75%   689325248714.250000000 55146004556.000000000  \n",
       "max   755764276889.000000000 65985702702.000000000  "
      ]
     },
     "execution_count": 113,
     "metadata": {},
     "output_type": "execute_result"
    }
   ],
   "source": [
    "df_all_data.describe()"
   ]
  },
  {
   "cell_type": "markdown",
   "id": "52f0d637-4a90-41d8-bda0-62ace1f571db",
   "metadata": {},
   "source": [
    "## Analysis Part"
   ]
  },
  {
   "cell_type": "markdown",
   "id": "cc97ab3c-f750-4764-82a3-01bce9e1c602",
   "metadata": {},
   "source": [
    "### Luna and UST Price Movement in Incident"
   ]
  },
  {
   "cell_type": "code",
   "execution_count": 114,
   "id": "cfb48f4f-ba42-4e6d-8238-ec203028c89d",
   "metadata": {},
   "outputs": [
    {
     "data": {
      "image/png": "[encoded data removed]",
      "text/plain": [
       "<Figure size 432x288 with 2 Axes>"
      ]
     },
     "metadata": {
      "needs_background": "light"
     },
     "output_type": "display_data"
    }
   ],
   "source": [
    "a= pd.to_datetime(df_btc['Date'], format='%Y-%m-%d').dt.strftime('%d').values.tolist()\n",
    "\n",
    "fig,ax1=plt.subplots()\n",
    "ax.plot()\n",
    "color = 'tab:blue'\n",
    "ax1.set_xlabel('Days')\n",
    "ax1.set_ylabel('Luna Price', color = color)\n",
    "ax1.plot(a,df_all_data['Price_Luna'], color = color)\n",
    "ax1.tick_params(axis ='y', labelcolor = color)\n",
    "   \n",
    "ax2 = ax1.twinx()\n",
    "color = 'tab:green'\n",
    "ax2.set_ylabel('UST Price', color = color)\n",
    "ax2.plot(a, df_all_data['Price_UST'], color = color)\n",
    "ax2.tick_params(axis ='y', labelcolor = color)\n",
    "  \n",
    "fig.suptitle('Luna and UST Price Movement in Incident', fontweight =\"bold\")\n",
    "plt.show()\n",
    "\n",
    "\n",
    "plt.show()"
   ]
  },
  {
   "cell_type": "markdown",
   "id": "a8a3cbca-dc2c-4a08-9d28-ddc0c49c7a8d",
   "metadata": {},
   "source": [
    "###### We can see that after an attack luna and ust price dropped highly and ust de-pegged"
   ]
  },
  {
   "cell_type": "markdown",
   "id": "2400345e-ab6c-48c5-b27f-43ba37fdb71d",
   "metadata": {},
   "source": [
    "## Drop rate on prices"
   ]
  },
  {
   "cell_type": "code",
   "execution_count": 115,
   "id": "d7e70291-a787-460a-b61b-1d6296f6d298",
   "metadata": {},
   "outputs": [
    {
     "data": {
      "text/plain": [
       "Text(0.5, 0.98, 'Drop Rate on Price in Incident')"
      ]
     },
     "execution_count": 115,
     "metadata": {},
     "output_type": "execute_result"
    },
    {
     "data": {
      "image/png": "[encoded data removed]",
      "text/plain": [
       "<Figure size 432x288 with 1 Axes>"
      ]
     },
     "metadata": {
      "needs_background": "light"
     },
     "output_type": "display_data"
    }
   ],
   "source": [
    "a= pd.to_datetime(df_btc['Date'], format='%Y-%m-%d').dt.strftime('%d').values.tolist()\n",
    "# create figure and axis objects with subplots()\n",
    "\n",
    "fig,ax = plt.subplots()\n",
    "# make a plot\n",
    "ax.plot(a,\n",
    "        df_all_data['Price_Luna']/df_all_data['Price_Luna'].iloc[0]*100-100,\n",
    "        color=\"red\", \n",
    "        marker=\"o\")\n",
    "ax.plot(a,\n",
    "        df_all_data['Price_BTC']/df_all_data['Price_BTC'].iloc[0]*100-100,\n",
    "        color=\"blue\", \n",
    "        marker=\"o\")\n",
    "ax.plot(a,\n",
    "        df_all_data['Price_UST']/df_all_data['Price_UST'].iloc[0]*100-100,\n",
    "        color=\"green\", \n",
    "        marker=\"o\")\n",
    "# set x-axis label\n",
    "ax.set_xlabel(\"Day\", fontsize = 14)\n",
    "# set y-axis label\n",
    "ax.set_ylabel(\"Drop Rate(%)\",\n",
    "              color=\"black\",\n",
    "              fontsize=14)\n",
    "ax.legend(['Luna','BTC','UST'])\n",
    "fig.suptitle('Drop Rate on Price in Incident', fontweight =\"bold\")"
   ]
  },
  {
   "cell_type": "markdown",
   "id": "2b7dcfe6-e69a-48e4-8338-fbffa2e76095",
   "metadata": {},
   "source": [
    "###### it seems attack on ust and luna trigger the drop for btc"
   ]
  },
  {
   "cell_type": "markdown",
   "id": "b38cf25a-09bc-4e6a-a359-a1210f0de1bc",
   "metadata": {},
   "source": [
    "## Drop Rate on Market Cap"
   ]
  },
  {
   "cell_type": "code",
   "execution_count": 116,
   "id": "6641d9fa-81ca-41d0-abd4-a5e77b80ef29",
   "metadata": {},
   "outputs": [
    {
     "data": {
      "text/plain": [
       "Text(0.5, 0.98, 'Drop Rate on Market Cap in Incident')"
      ]
     },
     "execution_count": 116,
     "metadata": {},
     "output_type": "execute_result"
    },
    {
     "data": {
      "image/png": "[encoded data removed]",
      "text/plain": [
       "<Figure size 432x288 with 1 Axes>"
      ]
     },
     "metadata": {
      "needs_background": "light"
     },
     "output_type": "display_data"
    }
   ],
   "source": [
    "a= pd.to_datetime(df_btc['Date'], format='%Y-%m-%d').dt.strftime('%d').values.tolist()\n",
    "# create figure and axis objects with subplots()\n",
    "fig,ax = plt.subplots()\n",
    "# make a plot\n",
    "ax.plot(a,\n",
    "        df_all_data['Market Cap_Luna']/df_all_data['Market Cap_Luna'].iloc[0]*100-100,\n",
    "        color=\"red\", \n",
    "        marker=\"o\")\n",
    "ax.plot(a,\n",
    "        df_all_data['Market Cap_BTC']/df_all_data['Market Cap_BTC'].iloc[0]*100-100,\n",
    "        color=\"blue\", \n",
    "        marker=\"o\")\n",
    "ax.plot(a,\n",
    "        df_all_data['Market Cap_UST']/df_all_data['Market Cap_UST'].iloc[0]*100-100,\n",
    "        color=\"green\", \n",
    "        marker=\"o\")\n",
    "# set x-axis label\n",
    "ax.set_xlabel(\"Day\", fontsize = 14)\n",
    "# set y-axis label\n",
    "ax.set_ylabel(\"Drop Rate (%)\",\n",
    "              color=\"black\",\n",
    "              fontsize=14)\n",
    "ax.legend(['Luna','BTC','UST'])\n",
    "fig.suptitle('Drop Rate on Market Cap in Incident', fontweight =\"bold\")"
   ]
  },
  {
   "cell_type": "markdown",
   "id": "85e9fa97-1c48-4f06-9b87-4452cf7b132d",
   "metadata": {},
   "source": [
    "##### market cap drop for ust and luna seems cause the drop on btc also in first days, then market cap for btc stabilize"
   ]
  },
  {
   "cell_type": "markdown",
   "id": "b736fffe-2bb5-49fe-acde-f5ef534ca1a2",
   "metadata": {},
   "source": [
    "## Changes on Volume (%)"
   ]
  },
  {
   "cell_type": "code",
   "execution_count": 117,
   "id": "1b1396b5-3035-4466-9999-70ed4137dcec",
   "metadata": {},
   "outputs": [
    {
     "data": {
      "text/plain": [
       "Text(0.5, 0.98, 'Drop Rate on Volume in Incident')"
      ]
     },
     "execution_count": 117,
     "metadata": {},
     "output_type": "execute_result"
    },
    {
     "data": {
      "image/png": "[encoded data removed]",
      "text/plain": [
       "<Figure size 432x288 with 1 Axes>"
      ]
     },
     "metadata": {
      "needs_background": "light"
     },
     "output_type": "display_data"
    }
   ],
   "source": [
    "a= pd.to_datetime(df_btc['Date'], format='%Y-%m-%d').dt.strftime('%d').values.tolist()\n",
    "# create figure and axis objects with subplots()\n",
    "fig,ax = plt.subplots()\n",
    "# make a plot\n",
    "ax.plot(a,\n",
    "        df_all_data['Volume_Luna']/df_all_data['Volume_Luna'].iloc[0]*100-100,\n",
    "        color=\"red\", \n",
    "        marker=\"o\")\n",
    "ax.plot(a,\n",
    "        df_all_data['Volume_BTC']/df_all_data['Volume_BTC'].iloc[0]*100-100,\n",
    "        color=\"blue\", \n",
    "        marker=\"o\")\n",
    "ax.plot(a,\n",
    "        df_all_data['Volume_UST']/df_all_data['Volume_UST'].iloc[0]*100-100,\n",
    "        color=\"green\", \n",
    "        marker=\"o\")\n",
    "# set x-axis label\n",
    "ax.set_xlabel(\"Day\", fontsize = 14)\n",
    "# set y-axis label\n",
    "ax.set_ylabel(\"Changes (%)\",\n",
    "              color=\"black\",\n",
    "              fontsize=14)\n",
    "ax.legend(['Luna','BTC','UST'])\n",
    "fig.suptitle('Drop Rate on Volume in Incident', fontweight =\"bold\")"
   ]
  },
  {
   "cell_type": "markdown",
   "id": "f4c9d64a-1a20-43e4-b5e8-335a766d186d",
   "metadata": {},
   "source": [
    "###### high volatility on luna and ust cause high volume in these coins, there were some people to sell an there were some people to buy to think it's at lowest."
   ]
  },
  {
   "cell_type": "markdown",
   "id": "1fddf9b8-fbf4-466e-948c-67fc652bc362",
   "metadata": {},
   "source": [
    "### Correlation"
   ]
  },
  {
   "cell_type": "code",
   "execution_count": 125,
   "id": "f2fce9c7-895b-4e22-a4ad-447d7a61e20b",
   "metadata": {},
   "outputs": [
    {
     "data": {
      "text/html": [
       "<div>\n",
       "<style scoped>\n",
       "    .dataframe tbody tr th:only-of-type {\n",
       "        vertical-align: middle;\n",
       "    }\n",
       "\n",
       "    .dataframe tbody tr th {\n",
       "        vertical-align: top;\n",
       "    }\n",
       "\n",
       "    .dataframe thead th {\n",
       "        text-align: right;\n",
       "    }\n",
       "</style>\n",
       "<table border=\"1\" class=\"dataframe\">\n",
       "  <thead>\n",
       "    <tr style=\"text-align: right;\">\n",
       "      <th></th>\n",
       "      <th>Price_Luna</th>\n",
       "      <th>Market Cap_Luna</th>\n",
       "      <th>Volume_Luna</th>\n",
       "      <th>Price_UST</th>\n",
       "      <th>Market Cap_UST</th>\n",
       "      <th>Volume_UST</th>\n",
       "      <th>Price_BTC</th>\n",
       "      <th>Market Cap_BTC</th>\n",
       "      <th>Volume_BTC</th>\n",
       "    </tr>\n",
       "  </thead>\n",
       "  <tbody>\n",
       "    <tr>\n",
       "      <th>Price_Luna</th>\n",
       "      <td>1.000000000</td>\n",
       "      <td>0.999853499</td>\n",
       "      <td>-0.960069000</td>\n",
       "      <td>0.956853682</td>\n",
       "      <td>0.950767452</td>\n",
       "      <td>-0.518327243</td>\n",
       "      <td>0.945888401</td>\n",
       "      <td>0.946018948</td>\n",
       "      <td>-0.866836449</td>\n",
       "    </tr>\n",
       "    <tr>\n",
       "      <th>Market Cap_Luna</th>\n",
       "      <td>0.999853499</td>\n",
       "      <td>1.000000000</td>\n",
       "      <td>-0.956092374</td>\n",
       "      <td>0.957347083</td>\n",
       "      <td>0.945493025</td>\n",
       "      <td>-0.523812486</td>\n",
       "      <td>0.949858137</td>\n",
       "      <td>0.949886564</td>\n",
       "      <td>-0.864394797</td>\n",
       "    </tr>\n",
       "    <tr>\n",
       "      <th>Volume_Luna</th>\n",
       "      <td>-0.960069000</td>\n",
       "      <td>-0.956092374</td>\n",
       "      <td>1.000000000</td>\n",
       "      <td>-0.869958278</td>\n",
       "      <td>-0.978025583</td>\n",
       "      <td>0.476853172</td>\n",
       "      <td>-0.863430727</td>\n",
       "      <td>-0.865259762</td>\n",
       "      <td>0.832531038</td>\n",
       "    </tr>\n",
       "    <tr>\n",
       "      <th>Price_UST</th>\n",
       "      <td>0.956853682</td>\n",
       "      <td>0.957347083</td>\n",
       "      <td>-0.869958278</td>\n",
       "      <td>1.000000000</td>\n",
       "      <td>0.903135212</td>\n",
       "      <td>-0.455534626</td>\n",
       "      <td>0.900664413</td>\n",
       "      <td>0.901112226</td>\n",
       "      <td>-0.926500126</td>\n",
       "    </tr>\n",
       "    <tr>\n",
       "      <th>Market Cap_UST</th>\n",
       "      <td>0.950767452</td>\n",
       "      <td>0.945493025</td>\n",
       "      <td>-0.978025583</td>\n",
       "      <td>0.903135212</td>\n",
       "      <td>1.000000000</td>\n",
       "      <td>-0.343519131</td>\n",
       "      <td>0.842106074</td>\n",
       "      <td>0.844486694</td>\n",
       "      <td>-0.889076300</td>\n",
       "    </tr>\n",
       "    <tr>\n",
       "      <th>Volume_UST</th>\n",
       "      <td>-0.518327243</td>\n",
       "      <td>-0.523812486</td>\n",
       "      <td>0.476853172</td>\n",
       "      <td>-0.455534626</td>\n",
       "      <td>-0.343519131</td>\n",
       "      <td>1.000000000</td>\n",
       "      <td>-0.459415617</td>\n",
       "      <td>-0.456141443</td>\n",
       "      <td>0.239945876</td>\n",
       "    </tr>\n",
       "    <tr>\n",
       "      <th>Price_BTC</th>\n",
       "      <td>0.945888401</td>\n",
       "      <td>0.949858137</td>\n",
       "      <td>-0.863430727</td>\n",
       "      <td>0.900664413</td>\n",
       "      <td>0.842106074</td>\n",
       "      <td>-0.459415617</td>\n",
       "      <td>1.000000000</td>\n",
       "      <td>0.999938885</td>\n",
       "      <td>-0.826435742</td>\n",
       "    </tr>\n",
       "    <tr>\n",
       "      <th>Market Cap_BTC</th>\n",
       "      <td>0.946018948</td>\n",
       "      <td>0.949886564</td>\n",
       "      <td>-0.865259762</td>\n",
       "      <td>0.901112226</td>\n",
       "      <td>0.844486694</td>\n",
       "      <td>-0.456141443</td>\n",
       "      <td>0.999938885</td>\n",
       "      <td>1.000000000</td>\n",
       "      <td>-0.830806699</td>\n",
       "    </tr>\n",
       "    <tr>\n",
       "      <th>Volume_BTC</th>\n",
       "      <td>-0.866836449</td>\n",
       "      <td>-0.864394797</td>\n",
       "      <td>0.832531038</td>\n",
       "      <td>-0.926500126</td>\n",
       "      <td>-0.889076300</td>\n",
       "      <td>0.239945876</td>\n",
       "      <td>-0.826435742</td>\n",
       "      <td>-0.830806699</td>\n",
       "      <td>1.000000000</td>\n",
       "    </tr>\n",
       "  </tbody>\n",
       "</table>\n",
       "</div>"
      ],
      "text/plain": [
       "                  Price_Luna  Market Cap_Luna  Volume_Luna    Price_UST  \\\n",
       "Price_Luna       1.000000000      0.999853499 -0.960069000  0.956853682   \n",
       "Market Cap_Luna  0.999853499      1.000000000 -0.956092374  0.957347083   \n",
       "Volume_Luna     -0.960069000     -0.956092374  1.000000000 -0.869958278   \n",
       "Price_UST        0.956853682      0.957347083 -0.869958278  1.000000000   \n",
       "Market Cap_UST   0.950767452      0.945493025 -0.978025583  0.903135212   \n",
       "Volume_UST      -0.518327243     -0.523812486  0.476853172 -0.455534626   \n",
       "Price_BTC        0.945888401      0.949858137 -0.863430727  0.900664413   \n",
       "Market Cap_BTC   0.946018948      0.949886564 -0.865259762  0.901112226   \n",
       "Volume_BTC      -0.866836449     -0.864394797  0.832531038 -0.926500126   \n",
       "\n",
       "                 Market Cap_UST   Volume_UST    Price_BTC  Market Cap_BTC  \\\n",
       "Price_Luna          0.950767452 -0.518327243  0.945888401     0.946018948   \n",
       "Market Cap_Luna     0.945493025 -0.523812486  0.949858137     0.949886564   \n",
       "Volume_Luna        -0.978025583  0.476853172 -0.863430727    -0.865259762   \n",
       "Price_UST           0.903135212 -0.455534626  0.900664413     0.901112226   \n",
       "Market Cap_UST      1.000000000 -0.343519131  0.842106074     0.844486694   \n",
       "Volume_UST         -0.343519131  1.000000000 -0.459415617    -0.456141443   \n",
       "Price_BTC           0.842106074 -0.459415617  1.000000000     0.999938885   \n",
       "Market Cap_BTC      0.844486694 -0.456141443  0.999938885     1.000000000   \n",
       "Volume_BTC         -0.889076300  0.239945876 -0.826435742    -0.830806699   \n",
       "\n",
       "                  Volume_BTC  \n",
       "Price_Luna      -0.866836449  \n",
       "Market Cap_Luna -0.864394797  \n",
       "Volume_Luna      0.832531038  \n",
       "Price_UST       -0.926500126  \n",
       "Market Cap_UST  -0.889076300  \n",
       "Volume_UST       0.239945876  \n",
       "Price_BTC       -0.826435742  \n",
       "Market Cap_BTC  -0.830806699  \n",
       "Volume_BTC       1.000000000  "
      ]
     },
     "execution_count": 125,
     "metadata": {},
     "output_type": "execute_result"
    }
   ],
   "source": [
    "all_data_cor = all_data.corr()\n",
    "all_data_cor"
   ]
  },
  {
   "cell_type": "code",
   "execution_count": 126,
   "id": "3d12bcca-36b2-4913-9902-be81582923af",
   "metadata": {},
   "outputs": [
    {
     "data": {
      "text/plain": [
       "Text(0.5, 0.98, 'Correlation Table')"
      ]
     },
     "execution_count": 126,
     "metadata": {},
     "output_type": "execute_result"
    },
    {
     "data": {
      "image/png": "[encoded data removed]",
      "text/plain": [
       "<Figure size 432x288 with 2 Axes>"
      ]
     },
     "metadata": {
      "needs_background": "light"
     },
     "output_type": "display_data"
    }
   ],
   "source": [
    "import seaborn as sns\n",
    "sns.heatmap(all_data_cor, xticklabels=all_data_cor.columns, yticklabels=all_data_cor.columns, annot=True)\n",
    "plt.suptitle('Correlation Table')"
   ]
  },
  {
   "cell_type": "markdown",
   "id": "2abb8d18-9a1e-427a-b00a-8b0ad61e5de9",
   "metadata": {},
   "source": [
    "## From this analysis we can conclude that attack on ust and luna causes the drop on market overall."
   ]
  },
  {
   "cell_type": "code",
   "execution_count": null,
   "id": "01ef28bd-2a42-4792-984e-1a3886c449b1",
   "metadata": {},
   "outputs": [],
   "source": []
  }
 ],
 "metadata": {
  "kernelspec": {
   "display_name": "Python 3 (ipykernel)",
   "language": "python",
   "name": "python3"
  },
  "language_info": {
   "codemirror_mode": {
    "name": "ipython",
    "version": 3
   },
   "file_extension": ".py",
   "mimetype": "text/x-python",
   "name": "python",
   "nbconvert_exporter": "python",
   "pygments_lexer": "ipython3",
   "version": "3.10.4"
  }
 },
 "nbformat": 4,
 "nbformat_minor": 5
}
